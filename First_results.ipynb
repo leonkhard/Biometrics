{
 "cells": [
  {
   "cell_type": "code",
   "execution_count": 10,
   "metadata": {},
   "outputs": [],
   "source": [
    "import numpy as np\n",
    "from UploadData import *\n",
    "from Classyfiers import *\n",
    "import warnings"
   ]
  },
  {
   "cell_type": "code",
   "execution_count": 11,
   "metadata": {},
   "outputs": [],
   "source": [
    "warnings.filterwarnings(\"ignore\")\n",
    "\n",
    "set=40\n",
    "\n",
    "datasets, labels, train = facedataset(set)\n",
    "\n",
    "X_mean = np.array(train).mean(axis=0)\n",
    "X_std = np.array(train).std(axis=0)\n",
    "train_norm = (train - X_mean)/X_std\n",
    "datasets_norm = (datasets - X_mean)/X_std"
   ]
  },
  {
   "cell_type": "code",
   "execution_count": 12,
   "metadata": {},
   "outputs": [
    {
     "name": "stdout",
     "output_type": "stream",
     "text": [
      "Brightness histogram accuracy: 0.6055555555555554\n"
     ]
    }
   ],
   "source": [
    "label = 0\n",
    "loss = 1\n",
    "l_all =0\n",
    "for dataset in datasets:\n",
    "    l=0\n",
    "    for img in dataset:\n",
    "        dist = [H_clsf(img, img_c) for img_c in train]\n",
    "        dist = dist / np.sum(dist)\n",
    "        l = l+1 if dist.argmin()==label else l\n",
    "    l_all+=l/len(dataset)\n",
    "    label+=1\n",
    "print('Brightness histogram accuracy:', l_all/len(datasets))"
   ]
  },
  {
   "cell_type": "code",
   "execution_count": 13,
   "metadata": {},
   "outputs": [
    {
     "name": "stdout",
     "output_type": "stream",
     "text": [
      "DFT accuracy: 0.7277777777777779\n"
     ]
    }
   ],
   "source": [
    "label = 0\n",
    "loss = 1\n",
    "l_all =0\n",
    "for dataset in datasets:\n",
    "    l=0\n",
    "    for img in dataset:\n",
    "        dist = [DFT_clsf(img, img_c) for img_c in train]\n",
    "        dist = dist / np.sum(dist)\n",
    "        l = l+1 if dist.argmin()==label else l\n",
    "    l_all+=l/len(dataset)\n",
    "    label+=1\n",
    "print('DFT accuracy:', l_all/len(datasets))"
   ]
  },
  {
   "cell_type": "code",
   "execution_count": 14,
   "metadata": {},
   "outputs": [
    {
     "name": "stdout",
     "output_type": "stream",
     "text": [
      "DCT accuracy: 0.7305555555555556\n"
     ]
    }
   ],
   "source": [
    "label = 0\n",
    "loss = 1\n",
    "l_all =0\n",
    "for dataset in datasets:\n",
    "    l=0\n",
    "    for img in dataset:\n",
    "        dist = [DCT_clsf(img, img_c) for img_c in train]\n",
    "        dist = dist / np.sum(dist)\n",
    "        l = l+1 if dist.argmin()==label else l\n",
    "    l_all+=l/len(dataset)\n",
    "    label+=1\n",
    "print('DCT accuracy:', l_all/len(datasets))"
   ]
  },
  {
   "cell_type": "code",
   "execution_count": 6,
   "metadata": {},
   "outputs": [
    {
     "name": "stdout",
     "output_type": "stream",
     "text": [
      "Scale accuracy: 0.6666666666666667\n"
     ]
    }
   ],
   "source": [
    "label = 0\n",
    "loss = 1\n",
    "l_all =0\n",
    "for dataset in datasets:\n",
    "    l=0\n",
    "    for img in dataset:\n",
    "        dist = [Scale_clsf(img, img_c) for img_c in train]\n",
    "        dist = dist / np.sum(dist)\n",
    "        l = l+1 if dist.argmin()==label else l\n",
    "    l_all+=l/len(dataset)\n",
    "    label+=1\n",
    "print('Scale accuracy:', l_all/len(datasets))"
   ]
  },
  {
   "cell_type": "code",
   "execution_count": 7,
   "metadata": {},
   "outputs": [
    {
     "name": "stdout",
     "output_type": "stream",
     "text": [
      "Gradient accuracy: 0.49166666666666653\n"
     ]
    }
   ],
   "source": [
    "label = 0\n",
    "loss = 1\n",
    "l_all =0\n",
    "for dataset in datasets:\n",
    "    l=0\n",
    "    for img in dataset:\n",
    "        dist = [G_clsf(img, img_c) for img_c in train]\n",
    "        dist = dist / np.sum(dist)\n",
    "        l = l+1 if dist.argmin()==label else l\n",
    "    l_all+=l/len(dataset)\n",
    "    label+=1\n",
    "print('Gradient accuracy:', l_all/len(datasets))"
   ]
  },
  {
   "cell_type": "code",
   "execution_count": 8,
   "metadata": {},
   "outputs": [
    {
     "name": "stdout",
     "output_type": "stream",
     "text": [
      "Random points accuracy: 0.6527777777777779\n"
     ]
    }
   ],
   "source": [
    "label = 0\n",
    "loss = 1\n",
    "l_all =0\n",
    "for dataset in datasets_norm :\n",
    "    l=0\n",
    "    for img in dataset:\n",
    "        dist = [RP_clsf(img, img_c) for img_c in train_norm]\n",
    "        dist = dist / np.sum(dist)\n",
    "        l = l+1 if dist.argmin()==label else l\n",
    "    l_all+=l/len(dataset)\n",
    "    label+=1\n",
    "print('Random points accuracy:', l_all/len(datasets))"
   ]
  },
  {
   "cell_type": "code",
   "execution_count": 9,
   "metadata": {},
   "outputs": [
    {
     "name": "stdout",
     "output_type": "stream",
     "text": [
      "Parallel system accuracy: 0.736111111111111\n"
     ]
    }
   ],
   "source": [
    "label = 0\n",
    "loss = 1\n",
    "l_all =0\n",
    "# print('All')\n",
    "for dataset in datasets:\n",
    "    loss=0\n",
    "    for img in dataset:\n",
    "        l = []\n",
    "\n",
    "        dist = [Scale_clsf(img, img_c) for img_c in train]\n",
    "        dist = dist / np.sum(dist)\n",
    "        l.append(dist.argmin())\n",
    "\n",
    "        dist = [RP_clsf(img, img_c) for img_c in train]\n",
    "        dist = dist / np.sum(dist)\n",
    "        l.append(dist.argmin())\n",
    "\n",
    "        dist = [H_clsf(img, img_c) for img_c in train]\n",
    "        dist = dist / np.sum(dist)\n",
    "        l.append(dist.argmin())\n",
    "\n",
    "        dist = [G_clsf(img, img_c) for img_c in train]\n",
    "        dist = dist / np.sum(dist)\n",
    "        l.append(dist.argmin())\n",
    "\n",
    "        dist = [DCT_clsf(img, img_c) for img_c in train]\n",
    "        dist = dist / np.sum(dist)\n",
    "        l.append(dist.argmin())\n",
    "\n",
    "        dist = [DFT_clsf(img, img_c) for img_c in train]\n",
    "        dist = dist / np.sum(dist)\n",
    "        l.append(dist.argmin())\n",
    "\n",
    "        tmp_labels = np.array([l.count(i) for i in l])\n",
    "        loss = loss +1 if l[tmp_labels.argmax()]==label else loss\n",
    "\n",
    "    l_all += loss / len(dataset)\n",
    "    label += 1\n",
    "print('Parallel system accuracy:', l_all / len(datasets))\n"
   ]
  },
  {
   "cell_type": "code",
   "execution_count": null,
   "metadata": {},
   "outputs": [],
   "source": []
  }
 ],
 "metadata": {
  "anaconda-cloud": {},
  "kernelspec": {
   "display_name": "p36workshop",
   "language": "python",
   "name": "p36workshop"
  },
  "language_info": {
   "codemirror_mode": {
    "name": "ipython",
    "version": 3
   },
   "file_extension": ".py",
   "mimetype": "text/x-python",
   "name": "python",
   "nbconvert_exporter": "python",
   "pygments_lexer": "ipython3",
   "version": "3.6.8"
  }
 },
 "nbformat": 4,
 "nbformat_minor": 1
}
